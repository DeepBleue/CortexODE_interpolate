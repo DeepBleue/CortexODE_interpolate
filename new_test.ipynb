{
 "cells": [
  {
   "cell_type": "code",
   "execution_count": 2,
   "metadata": {},
   "outputs": [],
   "source": [
    "from util.vtk_revise import * "
   ]
  },
  {
   "cell_type": "code",
   "execution_count": 4,
   "metadata": {},
   "outputs": [
    {
     "name": "stdout",
     "output_type": "stream",
     "text": [
      "dict_keys(['vertices', 'faces', 'thickness', 'area', 'curv', 'sulc', 'volume', 'area.mid', 'area.pial', 'curv.pial', 'orig', 'white', 'inflated', 'aparc', 'aparc.DKTatlas'])\n"
     ]
    }
   ],
   "source": [
    "path = 'ADNI_Cortex_vtk\\ADNI_027_S_6842_MR_Accelerated_Sagittal_IR-FSPGR__br_raw_20220308131442314_77_S1112337_I1554021\\lh.sphere.reg.vtk'\n",
    "path = 'ADNI_Cortex_vtk\\ADNI_116_S_1249_MR_MPRAGE_Repeat__br_raw_20100204160515231_1_S79769_I165820\\lh.sphere.reg.vtk'\n",
    "\n",
    "data = read_vtk(path)\n",
    "\n",
    "\n",
    "print(data.keys())\n",
    "\n",
    "\n",
    "# print(data['white'].shape)\n",
    "# print(data['pial'].shape)\n",
    "\n",
    "# print(data['faces'])"
   ]
  },
  {
   "cell_type": "code",
   "execution_count": 10,
   "metadata": {},
   "outputs": [
    {
     "name": "stdout",
     "output_type": "stream",
     "text": [
      "['path/to/your/base/directory/subdir1', 'path/to/your/base/directory/subdir2', 'path/to/your/base/directory/subdir3']\n"
     ]
    }
   ],
   "source": [
    "import os\n",
    "\n",
    "# Base directory\n",
    "base_dir = \"path/to/your/base/directory\"\n",
    "\n",
    "# List of subdirectories you want to include\n",
    "subdirs = [\"subdir1\", \"subdir2\", \"subdir3\"]\n",
    "\n",
    "# Construct full paths with forward slashes\n",
    "dir_paths = [os.path.join(base_dir, subdir).replace(\"\\\\\", \"/\") for subdir in subdirs]\n",
    "\n",
    "# Now dir_paths is a list of directory paths with forward slashes\n",
    "print(dir_paths)\n"
   ]
  }
 ],
 "metadata": {
  "kernelspec": {
   "display_name": "CortexODE",
   "language": "python",
   "name": "python3"
  },
  "language_info": {
   "codemirror_mode": {
    "name": "ipython",
    "version": 3
   },
   "file_extension": ".py",
   "mimetype": "text/x-python",
   "name": "python",
   "nbconvert_exporter": "python",
   "pygments_lexer": "ipython3",
   "version": "3.9.17"
  }
 },
 "nbformat": 4,
 "nbformat_minor": 2
}
